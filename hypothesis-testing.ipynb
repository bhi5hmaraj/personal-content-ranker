{
 "cells": [
  {
   "cell_type": "markdown",
   "metadata": {},
   "source": [
    "# Article Personalization Trained Using Preferences\n",
    "\n",
    "This notebook focuses on testing the main hypothesis of the project that human preferences from pairs can be used to train an LLM model to better predict the article the human is most likely to prefer to read next. \n",
    "\n",
    "# Implementation"
   ]
  },
  {
   "cell_type": "code",
   "execution_count": 1,
   "id": "ac3a5bd6",
   "metadata": {},
   "outputs": [],
   "source": [
    "## Creating Corpus"
   ]
  },
  {
   "cell_type": "code",
   "execution_count": 1,
   "id": "5afc77e6",
   "metadata": {},
   "outputs": [],
   "source": [
    "links = []\n",
    "with open('./data/small-dataset.txt') as f:\n",
    "    links = f.read().splitlines() "
   ]
  },
  {
   "cell_type": "code",
   "execution_count": 2,
   "id": "83e1d8fd",
   "metadata": {},
   "outputs": [
    {
     "data": {
      "text/plain": [
       "'https://www.greaterwrong.com/posts/Y9Yqux7iPwpvnppyS/engineering-experience-through-score'"
      ]
     },
     "execution_count": 2,
     "metadata": {},
     "output_type": "execute_result"
    }
   ],
   "source": [
    "links[0]"
   ]
  },
  {
   "cell_type": "code",
   "execution_count": 3,
   "id": "44f2f96f",
   "metadata": {},
   "outputs": [],
   "source": [
    "from dataclasses import dataclass\n",
    "\n",
    "@dataclass\n",
    "class Content:\n",
    "    content_id: int\n",
    "    url: str\n",
    "    content_type: str\n",
    "    content_text: str"
   ]
  },
  {
   "cell_type": "code",
   "execution_count": 4,
   "id": "806566f9",
   "metadata": {},
   "outputs": [],
   "source": [
    "from bs4 import BeautifulSoup\n",
    "from urllib.request import urlopen, Request\n",
    "\n",
    "def bs_fetcher(url):\n",
    "    text = None\n",
    "    user_agent = 'Mozilla/5.0 (Windows NT 10.0; Win64; x64) AppleWebKit/537.36 (KHTML, like Gecko) Chrome/58.0.3029.110 Safari/537.3'\n",
    "    try:\n",
    "        req = Request(url)\n",
    "        req.add_header('User-Agent', user_agent)\n",
    "        page = urlopen(req)\n",
    "        html = page.read().decode(\"utf-8\")\n",
    "        soup = BeautifulSoup(html, \"html.parser\")\n",
    "        text = soup.get_text()\n",
    "         \n",
    "    except Exception as e:\n",
    "        print('failed to fetch ', url)\n",
    "    return text"
   ]
  },
  {
   "cell_type": "code",
   "execution_count": 5,
   "id": "ce7a4e2f",
   "metadata": {},
   "outputs": [
    {
     "data": {
      "text/plain": [
       "\"\\n\\n\\n\\n\\n\\n\\n\\n\\n\\nEdge.org\\n\\n\\n\\n\\n\\n\\n\\n\\n\\n\\n\\n\\n\\n\\n\\n\\n\\n\\n\\nSkip to main content\\n\\n\\nCopyright © 2023 By Edge Foundation, Inc. All Rights Reserved.\\n\\n\\n\\n \\n\\nEdge.org\\n\\n\\n\\n\\n\\n\\n\\n \\n\\n\\n\\nTo arrive at the edge of the world's knowledge, seek out the most complex and sophisticated minds, put them in a room together, and have them ask each other the questions they are asking themselves.\\n\\n\\n\\n\\nhttps://www.edge.org/response-detail/26557Printed On Sun November 19th 2023 \\n\\n\\n\\nSun, Nov 19, 2023HOMECONVERSATIONSVIDEOAUDIOANNUAL QUESTIONEVENTSNEWSLIBRARYABOUTPEOPLE \\n\\n\\n\\n\\n\\n\\n\\n\\n\\n\\n\\n\\n\\n\\n\\n\\n\\n\\n2016 : WHAT DO YOU CONSIDER THE MOST INTERESTING RECENT [SCIENTIFIC] NEWS? WHAT MAKES IT IMPORTANT?\\n\\n\\n\\n In the News [ 22 ] \\n \\xa0\\xa0|\\xa0\\xa0 \\n Contributors [ 199 ] \\n \\xa0\\xa0|\\xa0\\xa0 \\n View All Responses [ 199 ]  \\n\\n\\n\\n\\n  \\n Pamela McCorduck \\n Author, Machines Who Think, The Universal Machine, Bounded Rationality, This Could Be Important; Co-author (with Edward Feigenbaum), The Fifth Generation  \\n\\n \\n\\n\\n Identifying The Principles, Perhaps The Laws, Of Intelligence \\n The most important news for me came in mid-2015, when three scientists, Samuel J. Gershman, Eric J. Horvitz, and Joshua Tenenbaum published “Computational rationality: A converging paradigm for intelligence in brains, minds, and machines” in Science, 17 July 2015. They announced that they and their colleagues had something new underway: an effort to identify the principles, perhaps the laws, of intelligence, just as Newton once discovered the laws of motion.\\nFormerly, any commonalities among a stroll in the park, the turbulence of a river, the revolution of a carriage wheel, the trajectory of a cannon ball, or the paths of the planets, seemed preposterous. It was Newton who found the underlying generalities that explained each of them (and so much more) at a fundamental level.\\nNow comes a similarly audacious pursuit to subsume under general principles, perhaps even laws, the essence of intelligence wherever it’s found. “Truth is ever to be found in simplicity, and not in the multiplicity and confusion of things,” Newton said.\\nSo far as intelligence goes, we are pre-Newtonian. Commonalities of intelligence shared by cells, dolphins, plants, birds, robots and humans seem, if not preposterous, at least far-fetched.\\nYet rich exchanges among artificial intelligence, cognitive psychology, and the neurosciences, for a start, aim exactly toward Newton’s “truth in simplicity,” those underlying principles (maybe laws) that will connect these disparate entities together. The pursuit’s formal name is computational rationality. What is it exactly, we ask? Who, or what, exhibits it?\\n\\xa0The pursuit is inspired by the general agreement in the sciences of mind that intelligence arises not from the medium that embodies it—whether biological or electronic—but the way interactions among elements in the system are arranged. Intelligence begins when a system identifies a goal, learns (from a teacher, a training set, or an experience) and then moves on autonomously, adapting to a complex, changing environment. Another way of looking at this is that intelligent entities are networks, often hierarchies of intelligent systems, humans certainly among the most complex, but congeries of humans even more so.\\nThe three scientists postulate that three core ideas characterize intelligence. First, intelligent agents have goals, and form beliefs and plan actions that will best reach those goals. Second, calculating ideal best choices may be intractable for real-world problems, but rational algorithms can come close enough (“satisfice” in Herbert Simon’s term) and incorporate the costs of computation. Third, these algorithms can be rationally adapted to the entity’s specific needs, either off-line through engineering or evolutionary design, or online through meta-reasoning mechanisms that select the best strategy on the spot for a given situation.\\nThough barely begun, the inquiry into computational rationality is already large and embraces multitudes. For example, biologists now talk easily about cognition, from the cellular to the symbolic level. Neuroscientists can identify computational strategies shared by both humans and animals. Dendrologists can show that trees communicate with each other (slowly) to warn of nearby enemies, like wood beetles: activate the toxins, neighbor.\\nThe humanities themselves are comfortably at home here too, though it’s taken many years for most of us to see that. And of course here belongs artificial intelligence, a key illuminator, inspiration, and provocateur.\\nIt’s news now; it will stay news because it’s so fundamental; its evolving revelations will help us see our world, our universe, in a completely new way. And for those atremble at the perils of super-intelligent entities, surely understanding intelligence at this fundamental level is one of our best defenses.\\xa0\\n \\n Return to Table of Contents  \\n\\n \\n\\n\\n\\n  \\n\\n\\n\\n\\n\\n\\n\\n\\n\\n\\n  \\n 2018 : WHAT IS THE LAST QUESTION?  \\n\\n  \\n 2017 : WHAT SCIENTIFIC TERM OR\\xa0CONCEPT OUGHT TO BE MORE WIDELY KNOWN?  \\n\\n  \\n 2016 : WHAT DO YOU CONSIDER THE MOST INTERESTING RECENT [SCIENTIFIC] NEWS? WHAT MAKES IT IMPORTANT?  \\n\\n  \\n 2015 : WHAT DO YOU THINK ABOUT MACHINES THAT THINK?  \\n\\n  \\n 2014 : WHAT SCIENTIFIC IDEA IS READY FOR RETIREMENT?  \\n\\n  \\n 2013 : WHAT *SHOULD* WE BE WORRIED ABOUT?  \\n\\n  \\n 2012 : WHAT IS YOUR FAVORITE DEEP, ELEGANT, OR BEAUTIFUL EXPLANATION?  \\n\\n  \\n 2011 : WHAT SCIENTIFIC CONCEPT WOULD IMPROVE EVERYBODY'S COGNITIVE TOOLKIT?  \\n\\n  \\n 2010 : HOW IS THE INTERNET CHANGING THE WAY YOU THINK?  \\n\\n  \\n 2009 : WHAT WILL CHANGE EVERYTHING?  \\n\\n  \\n 2008 : WHAT HAVE YOU CHANGED YOUR MIND ABOUT? WHY?  \\n\\n  \\n 2007 : WHAT ARE YOU OPTIMISTIC ABOUT?  \\n\\n  \\n 2006 : WHAT IS YOUR DANGEROUS IDEA?  \\n\\n  \\n 2005 : WHAT DO YOU BELIEVE IS TRUE EVEN THOUGH YOU CANNOT PROVE IT?  \\n\\n 2004 : WHAT'S YOUR LAW?  \\n\\n 2003 : WHAT ARE THE PRESSING SCIENTIFIC ISSUES FOR THE NATION AND THE WORLD, AND WHAT IS YOUR ADVICE ON HOW I CAN BEGIN TO DEAL WITH THEM? - GWB  \\n\\n 2002 : WHAT IS YOUR QUESTION? ... WHY?  \\n\\n 2001 : WHAT QUESTIONS HAVE DISAPPEARED?  \\n\\n 2001 : WHAT NOW?  \\n\\n 2000 : WHAT IS TODAY'S MOST IMPORTANT UNREPORTED STORY?  \\n\\n  \\n 1999 : WHAT IS THE MOST IMPORTANT INVENTION IN THE PAST TWO THOUSAND YEARS?  \\n\\n 1998 : WHAT QUESTIONS ARE YOU ASKING YOURSELF?  \\n\\n \\n\\n\\n\\n\\n\\n\\n\\n\\n\\n\\n\\nJohn Brockman, Editor and Publisher\\nContact Info:[email\\xa0protected]\\nIn the News\\nGet Edge.org by email\\n\\nEdge.org is a nonprofit private operating foundation under Section 501(c)(3) of the Internal Revenue Code.\\nCopyright © 2023 By Edge Foundation, Inc All Rights Reserved.\\n\\n\\n\\n\\n\\n\\n \\n\\n\\n\\n\\n\\n\\n\\n\\n\\n\\n\\n\\n\\n\\n\""
      ]
     },
     "execution_count": 5,
     "metadata": {},
     "output_type": "execute_result"
    }
   ],
   "source": [
    "# Testing bs_fetcher function\n",
    "bs_fetcher('https://www.edge.org/response-detail/26557')"
   ]
  },
  {
   "cell_type": "code",
   "execution_count": 6,
   "id": "c7333468",
   "metadata": {},
   "outputs": [],
   "source": [
    "def fetch_content(links) -> list[Content]:\n",
    "    return [Content(content_id=i, url=url, content_type='article', content_text=bs_fetcher(url)) \n",
    "            for i, url in enumerate(links)]"
   ]
  },
  {
   "cell_type": "code",
   "execution_count": 7,
   "id": "a9ee25e1",
   "metadata": {},
   "outputs": [
    {
     "name": "stdout",
     "output_type": "stream",
     "text": [
      "failed to fetch  https://www.crazypi.com/nvidia-jetson-nano-2gb\n",
      "failed to fetch  http://lukemuehlhauser.com/about/\n"
     ]
    }
   ],
   "source": [
    "import pandas as pd\n",
    "\n",
    "contents_df = pd.DataFrame([o.__dict__ for o in fetch_content(links) if o.content_text])"
   ]
  },
  {
   "cell_type": "code",
   "execution_count": 8,
   "id": "664f1128",
   "metadata": {},
   "outputs": [
    {
     "data": {
      "text/html": [
       "<div>\n",
       "<style scoped>\n",
       "    .dataframe tbody tr th:only-of-type {\n",
       "        vertical-align: middle;\n",
       "    }\n",
       "\n",
       "    .dataframe tbody tr th {\n",
       "        vertical-align: top;\n",
       "    }\n",
       "\n",
       "    .dataframe thead th {\n",
       "        text-align: right;\n",
       "    }\n",
       "</style>\n",
       "<table border=\"1\" class=\"dataframe\">\n",
       "  <thead>\n",
       "    <tr style=\"text-align: right;\">\n",
       "      <th></th>\n",
       "      <th>content_id</th>\n",
       "      <th>url</th>\n",
       "      <th>content_type</th>\n",
       "      <th>content_text</th>\n",
       "    </tr>\n",
       "  </thead>\n",
       "  <tbody>\n",
       "    <tr>\n",
       "      <th>0</th>\n",
       "      <td>0</td>\n",
       "      <td>https://www.greaterwrong.com/posts/Y9Yqux7iPwp...</td>\n",
       "      <td>article</td>\n",
       "      <td>\\n\\nEngineering Experience Through Score - Les...</td>\n",
       "    </tr>\n",
       "    <tr>\n",
       "      <th>1</th>\n",
       "      <td>1</td>\n",
       "      <td>https://www.greaterwrong.com/posts/YMtZRGLbvdD...</td>\n",
       "      <td>article</td>\n",
       "      <td>\\n\\nGeneralized Efficient Markets in Political...</td>\n",
       "    </tr>\n",
       "    <tr>\n",
       "      <th>2</th>\n",
       "      <td>2</td>\n",
       "      <td>https://www.greaterwrong.com/posts/ZJzSxo6nCNv...</td>\n",
       "      <td>article</td>\n",
       "      <td>\\n\\nWhy Planning is Hard: A Multifaceted Model...</td>\n",
       "    </tr>\n",
       "    <tr>\n",
       "      <th>3</th>\n",
       "      <td>3</td>\n",
       "      <td>https://www.greaterwrong.com/posts/znfkdCoHMAN...</td>\n",
       "      <td>article</td>\n",
       "      <td>\\n\\nThe ground of optimization - LessWrong 2.0...</td>\n",
       "    </tr>\n",
       "    <tr>\n",
       "      <th>4</th>\n",
       "      <td>4</td>\n",
       "      <td>https://www.greaterwrong.com/s/oFePMp9rKftEeZDDr</td>\n",
       "      <td>article</td>\n",
       "      <td>\\n\\nLawful Truth - LessWrong 2.0 viewerArchive...</td>\n",
       "    </tr>\n",
       "    <tr>\n",
       "      <th>5</th>\n",
       "      <td>5</td>\n",
       "      <td>https://www.greaterwrong.com/s/oi873FWi6pHWxswSa</td>\n",
       "      <td>article</td>\n",
       "      <td>\\n\\nThe Science of Winning at Life - LessWrong...</td>\n",
       "    </tr>\n",
       "    <tr>\n",
       "      <th>6</th>\n",
       "      <td>6</td>\n",
       "      <td>https://www.coursera.org/specializations/whart...</td>\n",
       "      <td>article</td>\n",
       "      <td>Business Strategies for A Better World Special...</td>\n",
       "    </tr>\n",
       "    <tr>\n",
       "      <th>7</th>\n",
       "      <td>8</td>\n",
       "      <td>https://www.cs.cmu.edu/~02251/schedule.html</td>\n",
       "      <td>article</td>\n",
       "      <td>\\n\\n\\n\\n\\n\\n02-251: Great Ideas in Computation...</td>\n",
       "    </tr>\n",
       "    <tr>\n",
       "      <th>8</th>\n",
       "      <td>9</td>\n",
       "      <td>https://www.cs.cmu.edu/~15251/course-info.html</td>\n",
       "      <td>article</td>\n",
       "      <td>\\n\\n\\n\\n\\n15-251 Fall 2018\\n\\n\\n\\n\\n\\n\\n15-251...</td>\n",
       "    </tr>\n",
       "    <tr>\n",
       "      <th>9</th>\n",
       "      <td>10</td>\n",
       "      <td>https://slatestarcodex.com/2013/02/17/90-of-al...</td>\n",
       "      <td>article</td>\n",
       "      <td>\\n\\n\\n\\n90% of all claims about the problems w...</td>\n",
       "    </tr>\n",
       "    <tr>\n",
       "      <th>10</th>\n",
       "      <td>11</td>\n",
       "      <td>https://slatestarcodex.com/2014/04/28/the-cont...</td>\n",
       "      <td>article</td>\n",
       "      <td>\\n\\n\\n\\nThe Control Group Is Out Of Control | ...</td>\n",
       "    </tr>\n",
       "    <tr>\n",
       "      <th>11</th>\n",
       "      <td>12</td>\n",
       "      <td>https://slatestarcodex.com/2014/07/30/meditati...</td>\n",
       "      <td>article</td>\n",
       "      <td>\\n\\n\\n\\nMeditations On Moloch | Slate Star Cod...</td>\n",
       "    </tr>\n",
       "    <tr>\n",
       "      <th>12</th>\n",
       "      <td>14</td>\n",
       "      <td>http://math.andrej.com/about/</td>\n",
       "      <td>article</td>\n",
       "      <td>\\n\\n\\n\\n\\n\\n\\nMathematics and Computation | Ab...</td>\n",
       "    </tr>\n",
       "    <tr>\n",
       "      <th>13</th>\n",
       "      <td>15</td>\n",
       "      <td>http://math.huji.ac.il/~mhochman/research-expo...</td>\n",
       "      <td>article</td>\n",
       "      <td>\\n\\nDynamical systems theory\\n\\n\\n Dynamical S...</td>\n",
       "    </tr>\n",
       "    <tr>\n",
       "      <th>14</th>\n",
       "      <td>16</td>\n",
       "      <td>http://math.mit.edu/~goemans/18310S15/18310A.html</td>\n",
       "      <td>article</td>\n",
       "      <td>\\n\\n18.310A\\n\\n\\n 18.310A Principles of Discre...</td>\n",
       "    </tr>\n",
       "    <tr>\n",
       "      <th>15</th>\n",
       "      <td>17</td>\n",
       "      <td>http://math.mit.edu/~goemans/18408.html</td>\n",
       "      <td>article</td>\n",
       "      <td>\\n\\n18.408 - Fall '16\\n\\n\\n18.408 Topics in Th...</td>\n",
       "    </tr>\n",
       "    <tr>\n",
       "      <th>16</th>\n",
       "      <td>18</td>\n",
       "      <td>http://www.math.toronto.edu/ilia/Teaching/MAT3...</td>\n",
       "      <td>article</td>\n",
       "      <td>\\n\\n\\n\\nMAT337. Introduction to Real Analysis\\...</td>\n",
       "    </tr>\n",
       "    <tr>\n",
       "      <th>17</th>\n",
       "      <td>19</td>\n",
       "      <td>http://www.mkbehr.com/posts/research-workflow/</td>\n",
       "      <td>article</td>\n",
       "      <td>\\n\\n\\n\\n\\n\\n\\nA research workflow with Zotero ...</td>\n",
       "    </tr>\n",
       "    <tr>\n",
       "      <th>18</th>\n",
       "      <td>20</td>\n",
       "      <td>http://www.nwlink.com/~donclark/about/about.html</td>\n",
       "      <td>article</td>\n",
       "      <td>\\n\\n\\nAbout page for Donald Clark\\n\\n\\n\\n\\n\\n\\...</td>\n",
       "    </tr>\n",
       "    <tr>\n",
       "      <th>19</th>\n",
       "      <td>21</td>\n",
       "      <td>http://www.offconvex.org/about/</td>\n",
       "      <td>article</td>\n",
       "      <td>\\n\\n\\n\\n\\nOff the Convex Path – Off the convex...</td>\n",
       "    </tr>\n",
       "    <tr>\n",
       "      <th>20</th>\n",
       "      <td>22</td>\n",
       "      <td>https://www.eacambridge.org/agi-week-6</td>\n",
       "      <td>article</td>\n",
       "      <td>\\n\\nAI Safety Fundamentals Course\\n\\n\\n\\n\\n\\n\\...</td>\n",
       "    </tr>\n",
       "    <tr>\n",
       "      <th>21</th>\n",
       "      <td>23</td>\n",
       "      <td>https://www.econlib.org/library/Enc/RentSeekin...</td>\n",
       "      <td>article</td>\n",
       "      <td>\\n\\n\\n\\n\\n\\n\\n\\n\\n\\nRent Seeking - Econlib\\n\\n...</td>\n",
       "    </tr>\n",
       "    <tr>\n",
       "      <th>22</th>\n",
       "      <td>24</td>\n",
       "      <td>https://www.edge.org/response-detail/26557</td>\n",
       "      <td>article</td>\n",
       "      <td>\\n\\n\\n\\n\\n\\n\\n\\n\\n\\nEdge.org\\n\\n\\n\\n\\n\\n\\n\\n\\n...</td>\n",
       "    </tr>\n",
       "    <tr>\n",
       "      <th>23</th>\n",
       "      <td>25</td>\n",
       "      <td>https://www.edge.org/response-detail/26587</td>\n",
       "      <td>article</td>\n",
       "      <td>\\n\\n\\n\\n\\n\\n\\n\\n\\n\\nEdge.org\\n\\n\\n\\n\\n\\n\\n\\n\\n...</td>\n",
       "    </tr>\n",
       "    <tr>\n",
       "      <th>24</th>\n",
       "      <td>26</td>\n",
       "      <td>https://teachcomputerscience.com/synchronous-a...</td>\n",
       "      <td>article</td>\n",
       "      <td>Synchronous and Asynchronous Data Transmissi...</td>\n",
       "    </tr>\n",
       "    <tr>\n",
       "      <th>25</th>\n",
       "      <td>27</td>\n",
       "      <td>https://teachyourselfcs.com/</td>\n",
       "      <td>article</td>\n",
       "      <td>\\n\\nTeach Yourself Computer Science\\n\\n\\n\\n\\n\\...</td>\n",
       "    </tr>\n",
       "    <tr>\n",
       "      <th>26</th>\n",
       "      <td>28</td>\n",
       "      <td>http://stellar.mit.edu/S/course/18/fa08/18.415...</td>\n",
       "      <td>article</td>\n",
       "      <td>\\n\\n\\n\\nStellar : Message of the Day\\n\\n\\n\\n\\n...</td>\n",
       "    </tr>\n",
       "    <tr>\n",
       "      <th>27</th>\n",
       "      <td>29</td>\n",
       "      <td>http://stellar.mit.edu/S/course/6/fa11/6.893/</td>\n",
       "      <td>article</td>\n",
       "      <td>\\n\\n\\n\\nStellar : Message of the Day\\n\\n\\n\\n\\n...</td>\n",
       "    </tr>\n",
       "    <tr>\n",
       "      <th>28</th>\n",
       "      <td>30</td>\n",
       "      <td>https://theory.cs.northwestern.edu/courses/</td>\n",
       "      <td>article</td>\n",
       "      <td>\\n\\n\\n\\n\\nTeaching – Northwestern CS Theory Gr...</td>\n",
       "    </tr>\n",
       "  </tbody>\n",
       "</table>\n",
       "</div>"
      ],
      "text/plain": [
       "    content_id                                                url  \\\n",
       "0            0  https://www.greaterwrong.com/posts/Y9Yqux7iPwp...   \n",
       "1            1  https://www.greaterwrong.com/posts/YMtZRGLbvdD...   \n",
       "2            2  https://www.greaterwrong.com/posts/ZJzSxo6nCNv...   \n",
       "3            3  https://www.greaterwrong.com/posts/znfkdCoHMAN...   \n",
       "4            4   https://www.greaterwrong.com/s/oFePMp9rKftEeZDDr   \n",
       "5            5   https://www.greaterwrong.com/s/oi873FWi6pHWxswSa   \n",
       "6            6  https://www.coursera.org/specializations/whart...   \n",
       "7            8        https://www.cs.cmu.edu/~02251/schedule.html   \n",
       "8            9     https://www.cs.cmu.edu/~15251/course-info.html   \n",
       "9           10  https://slatestarcodex.com/2013/02/17/90-of-al...   \n",
       "10          11  https://slatestarcodex.com/2014/04/28/the-cont...   \n",
       "11          12  https://slatestarcodex.com/2014/07/30/meditati...   \n",
       "12          14                      http://math.andrej.com/about/   \n",
       "13          15  http://math.huji.ac.il/~mhochman/research-expo...   \n",
       "14          16  http://math.mit.edu/~goemans/18310S15/18310A.html   \n",
       "15          17            http://math.mit.edu/~goemans/18408.html   \n",
       "16          18  http://www.math.toronto.edu/ilia/Teaching/MAT3...   \n",
       "17          19     http://www.mkbehr.com/posts/research-workflow/   \n",
       "18          20   http://www.nwlink.com/~donclark/about/about.html   \n",
       "19          21                    http://www.offconvex.org/about/   \n",
       "20          22             https://www.eacambridge.org/agi-week-6   \n",
       "21          23  https://www.econlib.org/library/Enc/RentSeekin...   \n",
       "22          24         https://www.edge.org/response-detail/26557   \n",
       "23          25         https://www.edge.org/response-detail/26587   \n",
       "24          26  https://teachcomputerscience.com/synchronous-a...   \n",
       "25          27                       https://teachyourselfcs.com/   \n",
       "26          28  http://stellar.mit.edu/S/course/18/fa08/18.415...   \n",
       "27          29      http://stellar.mit.edu/S/course/6/fa11/6.893/   \n",
       "28          30        https://theory.cs.northwestern.edu/courses/   \n",
       "\n",
       "   content_type                                       content_text  \n",
       "0       article  \\n\\nEngineering Experience Through Score - Les...  \n",
       "1       article  \\n\\nGeneralized Efficient Markets in Political...  \n",
       "2       article  \\n\\nWhy Planning is Hard: A Multifaceted Model...  \n",
       "3       article  \\n\\nThe ground of optimization - LessWrong 2.0...  \n",
       "4       article  \\n\\nLawful Truth - LessWrong 2.0 viewerArchive...  \n",
       "5       article  \\n\\nThe Science of Winning at Life - LessWrong...  \n",
       "6       article  Business Strategies for A Better World Special...  \n",
       "7       article  \\n\\n\\n\\n\\n\\n02-251: Great Ideas in Computation...  \n",
       "8       article  \\n\\n\\n\\n\\n15-251 Fall 2018\\n\\n\\n\\n\\n\\n\\n15-251...  \n",
       "9       article  \\n\\n\\n\\n90% of all claims about the problems w...  \n",
       "10      article  \\n\\n\\n\\nThe Control Group Is Out Of Control | ...  \n",
       "11      article  \\n\\n\\n\\nMeditations On Moloch | Slate Star Cod...  \n",
       "12      article  \\n\\n\\n\\n\\n\\n\\nMathematics and Computation | Ab...  \n",
       "13      article  \\n\\nDynamical systems theory\\n\\n\\n Dynamical S...  \n",
       "14      article  \\n\\n18.310A\\n\\n\\n 18.310A Principles of Discre...  \n",
       "15      article  \\n\\n18.408 - Fall '16\\n\\n\\n18.408 Topics in Th...  \n",
       "16      article  \\n\\n\\n\\nMAT337. Introduction to Real Analysis\\...  \n",
       "17      article  \\n\\n\\n\\n\\n\\n\\nA research workflow with Zotero ...  \n",
       "18      article  \\n\\n\\nAbout page for Donald Clark\\n\\n\\n\\n\\n\\n\\...  \n",
       "19      article  \\n\\n\\n\\n\\nOff the Convex Path – Off the convex...  \n",
       "20      article  \\n\\nAI Safety Fundamentals Course\\n\\n\\n\\n\\n\\n\\...  \n",
       "21      article  \\n\\n\\n\\n\\n\\n\\n\\n\\n\\nRent Seeking - Econlib\\n\\n...  \n",
       "22      article  \\n\\n\\n\\n\\n\\n\\n\\n\\n\\nEdge.org\\n\\n\\n\\n\\n\\n\\n\\n\\n...  \n",
       "23      article  \\n\\n\\n\\n\\n\\n\\n\\n\\n\\nEdge.org\\n\\n\\n\\n\\n\\n\\n\\n\\n...  \n",
       "24      article    Synchronous and Asynchronous Data Transmissi...  \n",
       "25      article  \\n\\nTeach Yourself Computer Science\\n\\n\\n\\n\\n\\...  \n",
       "26      article  \\n\\n\\n\\nStellar : Message of the Day\\n\\n\\n\\n\\n...  \n",
       "27      article  \\n\\n\\n\\nStellar : Message of the Day\\n\\n\\n\\n\\n...  \n",
       "28      article  \\n\\n\\n\\n\\nTeaching – Northwestern CS Theory Gr...  "
      ]
     },
     "execution_count": 8,
     "metadata": {},
     "output_type": "execute_result"
    }
   ],
   "source": [
    "contents_df\n"
   ]
  },
  {
   "cell_type": "code",
   "execution_count": 9,
   "id": "8ff10ea4",
   "metadata": {},
   "outputs": [],
   "source": [
    "import pickle\n",
    "\n",
    "# Saving loaded data as a binary file\n",
    "pickle.dump(contents_df, open( \"./temp/fetched-content.data\", \"wb\" ))"
   ]
  },
  {
   "cell_type": "markdown",
   "metadata": {},
   "source": [
    "## Creating Pipeline For Collecting Preferences From User"
   ]
  },
  {
   "cell_type": "code",
   "execution_count": 10,
   "id": "9f9edece",
   "metadata": {},
   "outputs": [
    {
     "name": "stdout",
     "output_type": "stream",
     "text": [
      "https://www.edge.org/response-detail/26557 \n",
      " https://theory.cs.northwestern.edu/courses/\n",
      "--------------\n",
      "http://www.nwlink.com/~donclark/about/about.html \n",
      " https://teachyourselfcs.com/\n",
      "--------------\n",
      "https://www.greaterwrong.com/posts/znfkdCoHMANwqc2WE/the-ground-of-optimization-1 \n",
      " https://theory.cs.northwestern.edu/courses/\n",
      "--------------\n",
      "https://www.greaterwrong.com/posts/Y9Yqux7iPwpvnppyS/engineering-experience-through-score \n",
      " https://www.greaterwrong.com/s/oFePMp9rKftEeZDDr\n",
      "--------------\n",
      "https://slatestarcodex.com/2014/07/30/meditations-on-moloch/ \n",
      " http://www.math.toronto.edu/ilia/Teaching/MAT337.2018/index.html\n",
      "--------------\n",
      "https://www.greaterwrong.com/posts/ZJzSxo6nCNvod67Xs/why-planning-is-hard-a-multifaceted-model \n",
      " https://teachcomputerscience.com/synchronous-and-asynchronous/\n",
      "--------------\n",
      "http://math.huji.ac.il/~mhochman/research-expo.html \n",
      " http://stellar.mit.edu/S/course/18/fa08/18.415/materials.html\n",
      "--------------\n",
      "https://www.coursera.org/specializations/wharton-global-business-strategy \n",
      " https://www.eacambridge.org/agi-week-6\n",
      "--------------\n",
      "https://www.cs.cmu.edu/~02251/schedule.html \n",
      " http://math.mit.edu/~goemans/18408.html\n",
      "--------------\n",
      "https://www.greaterwrong.com/posts/YMtZRGLbvdD4BGaqN/generalized-efficient-markets-in-political-power \n",
      " https://www.greaterwrong.com/s/oi873FWi6pHWxswSa\n",
      "--------------\n"
     ]
    }
   ],
   "source": [
    "import random, itertools\n",
    "\n",
    "MAX_PAIRS = 10\n",
    "order = list(range(len(contents_df)))\n",
    "\n",
    "pairs = list(itertools.combinations(order, 2))\n",
    "random.shuffle(pairs)\n",
    "\n",
    "\n",
    "prefs = []\n",
    "\n",
    "for x, y in pairs[:MAX_PAIRS]:\n",
    "    cont_x = contents_df.iloc[x]\n",
    "    cont_y = contents_df.iloc[y]\n",
    "    print(cont_x.url , '\\n', cont_y.url)\n",
    "    \n",
    "    pref = input('Type t for top and b for bottom link : ')\n",
    "    c, r = None, None\n",
    "    if pref == 't':\n",
    "        c, r = cont_x, cont_y\n",
    "    elif pref == 'b':\n",
    "        c, r = cont_y, cont_x\n",
    "    else:\n",
    "        print('Invalid input, skipping....')\n",
    "    \n",
    "    print('--------------')\n",
    "    prefs.append({'chosen': c.content_text, 'rejected': r.content_text})"
   ]
  },
  {
   "cell_type": "code",
<<<<<<< HEAD
   "execution_count": 9,
   "id": "e0cb5667",
   "metadata": {},
   "outputs": [],
   "source": [
    "import pandas as pd"
   ]
  },
  {
   "cell_type": "code",
=======
>>>>>>> b5177927bfb1c3bcd3c4382b44653f053589172c
   "execution_count": 37,
   "id": "f5ddc9b1",
   "metadata": {},
   "outputs": [],
   "source": [
    "pref_df = pd.DataFrame(prefs)"
   ]
  },
  {
   "cell_type": "code",
   "execution_count": 40,
   "id": "409bbd2b",
   "metadata": {},
   "outputs": [
    {
     "data": {
      "text/html": [
       "<div>\n",
       "<style scoped>\n",
       "    .dataframe tbody tr th:only-of-type {\n",
       "        vertical-align: middle;\n",
       "    }\n",
       "\n",
       "    .dataframe tbody tr th {\n",
       "        vertical-align: top;\n",
       "    }\n",
       "\n",
       "    .dataframe thead th {\n",
       "        text-align: right;\n",
       "    }\n",
       "</style>\n",
       "<table border=\"1\" class=\"dataframe\">\n",
       "  <thead>\n",
       "    <tr style=\"text-align: right;\">\n",
       "      <th></th>\n",
       "      <th>chosen</th>\n",
       "      <th>rejected</th>\n",
       "    </tr>\n",
       "  </thead>\n",
       "  <tbody>\n",
       "    <tr>\n",
       "      <th>0</th>\n",
       "      <td>\\n\\n\\n\\n\\n\\n\\n\\n\\n\\nEdge.org\\n\\n\\n\\n\\n\\n\\n\\n\\n...</td>\n",
       "      <td>\\n\\n\\n\\n\\nTeaching – Northwestern CS Theory Gr...</td>\n",
       "    </tr>\n",
       "    <tr>\n",
       "      <th>1</th>\n",
       "      <td>\\n\\nTeach Yourself Computer Science\\n\\n\\n\\n\\n\\...</td>\n",
       "      <td>\\n\\n\\nAbout page for Donald Clark\\n\\n\\n\\n\\n\\n\\...</td>\n",
       "    </tr>\n",
       "    <tr>\n",
       "      <th>2</th>\n",
       "      <td>\\n\\nThe ground of optimization - LessWrong 2.0...</td>\n",
       "      <td>\\n\\n\\n\\n\\nTeaching – Northwestern CS Theory Gr...</td>\n",
       "    </tr>\n",
       "    <tr>\n",
       "      <th>3</th>\n",
       "      <td>\\n\\nLawful Truth - LessWrong 2.0 viewerArchive...</td>\n",
       "      <td>\\n\\nEngineering Experience Through Score - Les...</td>\n",
       "    </tr>\n",
       "    <tr>\n",
       "      <th>4</th>\n",
       "      <td>\\n\\n\\n\\nMAT337. Introduction to Real Analysis\\...</td>\n",
       "      <td>\\n\\n\\n\\nMeditations On Moloch | Slate Star Cod...</td>\n",
       "    </tr>\n",
       "    <tr>\n",
       "      <th>5</th>\n",
       "      <td>\\n\\nWhy Planning is Hard: A Multifaceted Model...</td>\n",
       "      <td>Synchronous and Asynchronous Data Transmissi...</td>\n",
       "    </tr>\n",
       "    <tr>\n",
       "      <th>6</th>\n",
       "      <td>\\n\\n\\n\\nStellar : Message of the Day\\n\\n\\n\\n\\n...</td>\n",
       "      <td>\\n\\nDynamical systems theory\\n\\n\\n Dynamical S...</td>\n",
       "    </tr>\n",
       "    <tr>\n",
       "      <th>7</th>\n",
       "      <td>Business Strategies for A Better World Special...</td>\n",
       "      <td>\\n\\nAI Safety Fundamentals Course\\n\\n\\n\\n\\n\\n\\...</td>\n",
       "    </tr>\n",
       "    <tr>\n",
       "      <th>8</th>\n",
       "      <td>\\n\\n18.408 - Fall '16\\n\\n\\n18.408 Topics in Th...</td>\n",
       "      <td>\\n\\n\\n\\n\\n\\n02-251: Great Ideas in Computation...</td>\n",
       "    </tr>\n",
       "    <tr>\n",
       "      <th>9</th>\n",
       "      <td>\\n\\nThe Science of Winning at Life - LessWrong...</td>\n",
       "      <td>\\n\\nGeneralized Efficient Markets in Political...</td>\n",
       "    </tr>\n",
       "  </tbody>\n",
       "</table>\n",
       "</div>"
      ],
      "text/plain": [
       "                                              chosen  \\\n",
       "0  \\n\\n\\n\\n\\n\\n\\n\\n\\n\\nEdge.org\\n\\n\\n\\n\\n\\n\\n\\n\\n...   \n",
       "1  \\n\\nTeach Yourself Computer Science\\n\\n\\n\\n\\n\\...   \n",
       "2  \\n\\nThe ground of optimization - LessWrong 2.0...   \n",
       "3  \\n\\nLawful Truth - LessWrong 2.0 viewerArchive...   \n",
       "4  \\n\\n\\n\\nMAT337. Introduction to Real Analysis\\...   \n",
       "5  \\n\\nWhy Planning is Hard: A Multifaceted Model...   \n",
       "6  \\n\\n\\n\\nStellar : Message of the Day\\n\\n\\n\\n\\n...   \n",
       "7  Business Strategies for A Better World Special...   \n",
       "8  \\n\\n18.408 - Fall '16\\n\\n\\n18.408 Topics in Th...   \n",
       "9  \\n\\nThe Science of Winning at Life - LessWrong...   \n",
       "\n",
       "                                            rejected  \n",
       "0  \\n\\n\\n\\n\\nTeaching – Northwestern CS Theory Gr...  \n",
       "1  \\n\\n\\nAbout page for Donald Clark\\n\\n\\n\\n\\n\\n\\...  \n",
       "2  \\n\\n\\n\\n\\nTeaching – Northwestern CS Theory Gr...  \n",
       "3  \\n\\nEngineering Experience Through Score - Les...  \n",
       "4  \\n\\n\\n\\nMeditations On Moloch | Slate Star Cod...  \n",
       "5    Synchronous and Asynchronous Data Transmissi...  \n",
       "6  \\n\\nDynamical systems theory\\n\\n\\n Dynamical S...  \n",
       "7  \\n\\nAI Safety Fundamentals Course\\n\\n\\n\\n\\n\\n\\...  \n",
       "8  \\n\\n\\n\\n\\n\\n02-251: Great Ideas in Computation...  \n",
       "9  \\n\\nGeneralized Efficient Markets in Political...  "
      ]
     },
     "execution_count": 40,
     "metadata": {},
     "output_type": "execute_result"
    }
   ],
   "source": [
    "pref_df = pd.DataFrame(prefs)\n",
    "pref_df"
   ]
  },
  {
   "cell_type": "code",
   "execution_count": 25,
   "id": "1b55b55b",
   "metadata": {},
   "outputs": [],
   "source": [
    "pref_df.to_csv('./pref_data.csv')\n"
   ]
  },
  {
   "cell_type": "code",
   "execution_count": 10,
   "id": "a7abcd52",
   "metadata": {},
   "outputs": [],
   "source": [
    "pref_df = pd.read_csv('./pref_data.csv')"
   ]
  },
  {
   "cell_type": "code",
   "execution_count": 8,
   "id": "794f9d4e",
   "metadata": {},
   "outputs": [],
   "source": [
    "# s = pref_df[['chosen', 'rejected']].to_json('./pref_data.json')"
   ]
  },
  {
   "cell_type": "code",
   "execution_count": 13,
   "id": "d8f93151",
   "metadata": {},
   "outputs": [],
   "source": [
    "s = pref_df[['chosen', 'rejected']].to_json('./pref_data.json', orient='records')"
   ]
  },
  {
   "cell_type": "code",
   "execution_count": 14,
   "id": "699d79b6",
   "metadata": {},
   "outputs": [
    {
     "data": {
      "text/plain": [
       "10"
      ]
     },
     "execution_count": 14,
     "metadata": {},
     "output_type": "execute_result"
    }
   ],
   "source": [
    "len(pref_df)"
   ]
  },
  {
   "cell_type": "markdown",
   "id": "a200336e",
   "metadata": {},
   "source": [
    "### Load trained model\n",
    "\n"
   ]
  },
  {
   "cell_type": "code",
   "execution_count": 27,
   "id": "df165735",
   "metadata": {},
   "outputs": [
    {
     "name": "stdout",
     "output_type": "stream",
     "text": [
      "False\n"
     ]
    }
   ],
   "source": [
    "import torch\n",
    "print(torch.cuda.is_available())"
   ]
  },
  {
   "cell_type": "code",
   "execution_count": 32,
   "id": "eab9ca9a",
   "metadata": {},
   "outputs": [],
   "source": [
    "from transformers import OPTForCausalLM, AutoTokenizer, T5ForSequenceClassification, AutoModelForSequenceClassification"
   ]
  },
  {
   "cell_type": "code",
   "execution_count": 33,
   "id": "89fbb477",
   "metadata": {},
   "outputs": [
    {
     "name": "stderr",
     "output_type": "stream",
     "text": [
      "Some weights of T5ForSequenceClassification were not initialized from the model checkpoint at google/flan-t5-small and are newly initialized: ['classification_head.dense.weight', 'classification_head.out_proj.weight', 'classification_head.dense.bias', 'classification_head.out_proj.bias']\n",
      "You should probably TRAIN this model on a down-stream task to be able to use it for predictions and inference.\n"
     ]
    }
   ],
   "source": [
    "model = AutoModelForSequenceClassification.from_pretrained('./output/checkpoint-20', ignore_mismatched_sizes=True)"
   ]
  },
  {
   "cell_type": "code",
   "execution_count": 34,
   "id": "126428a8",
   "metadata": {},
   "outputs": [
    {
     "data": {
      "text/plain": [
       "T5Config {\n",
       "  \"_name_or_path\": \"google/flan-t5-small\",\n",
       "  \"architectures\": [\n",
       "    \"T5ForConditionalGeneration\"\n",
       "  ],\n",
       "  \"classifier_dropout\": 0.0,\n",
       "  \"d_ff\": 1024,\n",
       "  \"d_kv\": 64,\n",
       "  \"d_model\": 512,\n",
       "  \"decoder_start_token_id\": 0,\n",
       "  \"dense_act_fn\": \"gelu_new\",\n",
       "  \"dropout_rate\": 0.1,\n",
       "  \"eos_token_id\": 1,\n",
       "  \"feed_forward_proj\": \"gated-gelu\",\n",
       "  \"initializer_factor\": 1.0,\n",
       "  \"is_encoder_decoder\": true,\n",
       "  \"is_gated_act\": true,\n",
       "  \"layer_norm_epsilon\": 1e-06,\n",
       "  \"model_type\": \"t5\",\n",
       "  \"n_positions\": 512,\n",
       "  \"num_decoder_layers\": 8,\n",
       "  \"num_heads\": 6,\n",
       "  \"num_layers\": 8,\n",
       "  \"output_past\": true,\n",
       "  \"pad_token_id\": 0,\n",
       "  \"relative_attention_max_distance\": 128,\n",
       "  \"relative_attention_num_buckets\": 32,\n",
       "  \"task_specific_params\": {\n",
       "    \"summarization\": {\n",
       "      \"early_stopping\": true,\n",
       "      \"length_penalty\": 2.0,\n",
       "      \"max_length\": 200,\n",
       "      \"min_length\": 30,\n",
       "      \"no_repeat_ngram_size\": 3,\n",
       "      \"num_beams\": 4,\n",
       "      \"prefix\": \"summarize: \"\n",
       "    },\n",
       "    \"translation_en_to_de\": {\n",
       "      \"early_stopping\": true,\n",
       "      \"max_length\": 300,\n",
       "      \"num_beams\": 4,\n",
       "      \"prefix\": \"translate English to German: \"\n",
       "    },\n",
       "    \"translation_en_to_fr\": {\n",
       "      \"early_stopping\": true,\n",
       "      \"max_length\": 300,\n",
       "      \"num_beams\": 4,\n",
       "      \"prefix\": \"translate English to French: \"\n",
       "    },\n",
       "    \"translation_en_to_ro\": {\n",
       "      \"early_stopping\": true,\n",
       "      \"max_length\": 300,\n",
       "      \"num_beams\": 4,\n",
       "      \"prefix\": \"translate English to Romanian: \"\n",
       "    }\n",
       "  },\n",
       "  \"tie_word_embeddings\": false,\n",
       "  \"transformers_version\": \"4.36.0.dev0\",\n",
       "  \"use_cache\": true,\n",
       "  \"vocab_size\": 32128\n",
       "}"
      ]
     },
     "execution_count": 34,
     "metadata": {},
     "output_type": "execute_result"
    }
   ],
   "source": [
    "model.config"
   ]
  },
  {
   "cell_type": "code",
   "execution_count": 35,
   "id": "2187d8f2",
   "metadata": {},
   "outputs": [],
   "source": [
    "tokenizer = AutoTokenizer.from_pretrained(\"./output/checkpoint-20\")"
   ]
  },
  {
   "cell_type": "code",
<<<<<<< HEAD
   "execution_count": 36,
   "id": "ce28a2b6",
   "metadata": {},
   "outputs": [],
   "source": [
    "def predict(text, truncate=512):\n",
    "    inputs = tokenizer(text, return_tensors=\"pt\")\n",
    "    outputs = model.forward(**inputs)\n",
    "    return torch.softmax(outputs.logits, -1)"
   ]
  },
  {
   "cell_type": "code",
   "execution_count": 37,
   "id": "fcaf4a92",
   "metadata": {},
=======
   "execution_count": 2,
   "id": "eab9ca9a",
   "metadata": {},
>>>>>>> b5177927bfb1c3bcd3c4382b44653f053589172c
   "outputs": [
    {
     "name": "stderr",
     "output_type": "stream",
     "text": [
<<<<<<< HEAD
      "Token indices sequence length is longer than the specified maximum sequence length for this model (2226 > 512). Running this sequence through the model will result in indexing errors\n"
=======
      "/Users/harish/opt/anaconda3/envs/personal-content-ranker/lib/python3.9/site-packages/tqdm/auto.py:21: TqdmWarning: IProgress not found. Please update jupyter and ipywidgets. See https://ipywidgets.readthedocs.io/en/stable/user_install.html\n",
      "  from .autonotebook import tqdm as notebook_tqdm\n"
>>>>>>> b5177927bfb1c3bcd3c4382b44653f053589172c
     ]
    }
   ],
   "source": [
<<<<<<< HEAD
    "t = predict(pref_df.iloc[0]['rejected'])"
   ]
  },
  {
   "cell_type": "code",
   "execution_count": 39,
   "id": "354fb93f",
   "metadata": {},
   "outputs": [
    {
     "data": {
      "text/plain": [
       "tensor([[0.5341, 0.4659]])"
      ]
     },
     "execution_count": 39,
     "metadata": {},
     "output_type": "execute_result"
    }
   ],
   "source": [
    "predict(pref_df.iloc[0]['chosen'])"
=======
    "from transformers import OPTForCausalLM, AutoTokenizer, OPTForSequenceClassification, AutoModelForSeq2SeqLM, AutoModelForSequenceClassification, AutoModel"
>>>>>>> b5177927bfb1c3bcd3c4382b44653f053589172c
   ]
  },
  {
   "cell_type": "code",
<<<<<<< HEAD
   "execution_count": 38,
   "id": "033fe605",
   "metadata": {},
   "outputs": [
    {
     "data": {
      "text/plain": [
       "tensor([[0.5903, 0.4097]])"
      ]
     },
     "execution_count": 38,
     "metadata": {},
     "output_type": "execute_result"
    }
   ],
   "source": [
    "t"
   ]
  },
  {
   "cell_type": "code",
   "execution_count": 22,
   "id": "7ef60261",
   "metadata": {},
   "outputs": [],
   "source": []
  },
  {
   "cell_type": "code",
   "execution_count": 26,
   "id": "3365f929",
   "metadata": {},
   "outputs": [
    {
     "data": {
      "text/plain": [
       "tensor([[-0.3224, -1.0918]])"
      ]
     },
     "execution_count": 26,
     "metadata": {},
     "output_type": "execute_result"
    }
   ],
   "source": [
    "t"
=======
   "execution_count": 5,
   "id": "89fbb477",
   "metadata": {},
   "outputs": [
    {
     "name": "stderr",
     "output_type": "stream",
     "text": [
      "Some weights of T5ForSequenceClassification were not initialized from the model checkpoint at google/flan-t5-small and are newly initialized: ['classification_head.dense.bias', 'classification_head.dense.weight', 'classification_head.out_proj.bias', 'classification_head.out_proj.weight']\n",
      "You should probably TRAIN this model on a down-stream task to be able to use it for predictions and inference.\n"
     ]
    }
   ],
   "source": [
    "# https://towardsdatascience.com/linear-regression-with-hugging-face-3883fe729324\n",
    "\n",
    "model = AutoModelForSequenceClassification.from_pretrained('output/checkpoint-5', num_labels = 1)\n",
    "tokenizer = AutoTokenizer.from_pretrained('output/checkpoint-5')"
>>>>>>> b5177927bfb1c3bcd3c4382b44653f053589172c
   ]
  },
  {
   "cell_type": "code",
<<<<<<< HEAD
   "execution_count": 25,
   "id": "78f1b716",
   "metadata": {},
   "outputs": [
    {
     "data": {
      "text/plain": [
       "tensor([[0.6834, 0.3166]])"
      ]
     },
     "execution_count": 25,
     "metadata": {},
     "output_type": "execute_result"
    }
   ],
   "source": []
  },
  {
   "cell_type": "code",
   "execution_count": 25,
   "id": "eb59fdf9",
=======
   "execution_count": 30,
   "id": "dfa996d4",
>>>>>>> b5177927bfb1c3bcd3c4382b44653f053589172c
   "metadata": {},
   "outputs": [
    {
     "data": {
      "text/html": [
       "<div>\n",
       "<style scoped>\n",
       "    .dataframe tbody tr th:only-of-type {\n",
       "        vertical-align: middle;\n",
       "    }\n",
       "\n",
       "    .dataframe tbody tr th {\n",
       "        vertical-align: top;\n",
       "    }\n",
       "\n",
       "    .dataframe thead th {\n",
       "        text-align: right;\n",
       "    }\n",
       "</style>\n",
       "<table border=\"1\" class=\"dataframe\">\n",
       "  <thead>\n",
       "    <tr style=\"text-align: right;\">\n",
       "      <th></th>\n",
       "      <th>Unnamed: 0</th>\n",
       "      <th>chosen</th>\n",
       "      <th>rejected</th>\n",
       "      <th>chosen_article_score</th>\n",
       "      <th>rejected_article_score</th>\n",
       "      <th>model_results</th>\n",
       "    </tr>\n",
       "  </thead>\n",
       "  <tbody>\n",
       "    <tr>\n",
       "      <th>0</th>\n",
       "      <td>0</td>\n",
       "      <td>\\n\\nWhy Planning is Hard: A Multifaceted Model...</td>\n",
       "      <td>\\n\\n\\n\\n\\n\\n\\nA research workflow with Zotero ...</td>\n",
       "      <td>0.068711</td>\n",
       "      <td>-0.083770</td>\n",
       "      <td>correct</td>\n",
       "    </tr>\n",
       "    <tr>\n",
       "      <th>1</th>\n",
       "      <td>1</td>\n",
       "      <td>Synchronous and Asynchronous Data Transmissi...</td>\n",
       "      <td>\\n\\nGeneralized Efficient Markets in Political...</td>\n",
       "      <td>-0.034582</td>\n",
       "      <td>0.185842</td>\n",
       "      <td>wrong</td>\n",
       "    </tr>\n",
       "    <tr>\n",
       "      <th>2</th>\n",
       "      <td>2</td>\n",
       "      <td>\\n\\n\\n\\nMAT337. Introduction to Real Analysis\\...</td>\n",
       "      <td>\\n\\n\\n\\nStellar : Message of the Day\\n\\n\\n\\n\\n...</td>\n",
       "      <td>0.251424</td>\n",
       "      <td>0.121554</td>\n",
       "      <td>correct</td>\n",
       "    </tr>\n",
       "    <tr>\n",
       "      <th>3</th>\n",
       "      <td>3</td>\n",
       "      <td>\\n\\n\\n\\n\\n\\n\\nA research workflow with Zotero ...</td>\n",
       "      <td>\\n\\n\\n\\n\\n\\n\\n\\n\\n\\nEdge.org\\n\\n\\n\\n\\n\\n\\n\\n\\n...</td>\n",
       "      <td>-0.083770</td>\n",
       "      <td>-0.170541</td>\n",
       "      <td>correct</td>\n",
       "    </tr>\n",
       "    <tr>\n",
       "      <th>4</th>\n",
       "      <td>4</td>\n",
       "      <td>\\n\\n\\n\\n90% of all claims about the problems w...</td>\n",
       "      <td>\\n\\n\\n\\n\\nOff the Convex Path – Off the convex...</td>\n",
       "      <td>-0.232459</td>\n",
       "      <td>0.064567</td>\n",
       "      <td>wrong</td>\n",
       "    </tr>\n",
       "    <tr>\n",
       "      <th>5</th>\n",
       "      <td>5</td>\n",
       "      <td>\\n\\nAI Safety Fundamentals Course\\n\\n\\n\\n\\n\\n\\...</td>\n",
       "      <td>\\n\\n\\n\\nThe Control Group Is Out Of Control | ...</td>\n",
       "      <td>0.018573</td>\n",
       "      <td>-0.109004</td>\n",
       "      <td>correct</td>\n",
       "    </tr>\n",
       "    <tr>\n",
       "      <th>6</th>\n",
       "      <td>6</td>\n",
       "      <td>\\n\\n\\n\\nMAT337. Introduction to Real Analysis\\...</td>\n",
       "      <td>\\n\\n\\n\\n\\n\\n02-251: Great Ideas in Computation...</td>\n",
       "      <td>0.251424</td>\n",
       "      <td>0.095170</td>\n",
       "      <td>correct</td>\n",
       "    </tr>\n",
       "    <tr>\n",
       "      <th>7</th>\n",
       "      <td>7</td>\n",
       "      <td>\\n\\n\\n\\nStellar : Message of the Day\\n\\n\\n\\n\\n...</td>\n",
       "      <td>\\n\\n\\n\\n\\n15-251 Fall 2018\\n\\n\\n\\n\\n\\n\\n15-251...</td>\n",
       "      <td>0.121554</td>\n",
       "      <td>-0.112996</td>\n",
       "      <td>correct</td>\n",
       "    </tr>\n",
       "    <tr>\n",
       "      <th>8</th>\n",
       "      <td>8</td>\n",
       "      <td>\\n\\nThe ground of optimization - LessWrong 2.0...</td>\n",
       "      <td>\\n\\n\\n\\n\\n\\n\\nA research workflow with Zotero ...</td>\n",
       "      <td>0.116302</td>\n",
       "      <td>-0.083770</td>\n",
       "      <td>correct</td>\n",
       "    </tr>\n",
       "    <tr>\n",
       "      <th>9</th>\n",
       "      <td>9</td>\n",
       "      <td>\\n\\n\\n\\n\\n\\n\\n\\n\\n\\nRent Seeking - Econlib\\n\\n...</td>\n",
       "      <td>\\n\\n\\n\\n\\nOff the Convex Path – Off the convex...</td>\n",
       "      <td>-0.014000</td>\n",
       "      <td>0.064567</td>\n",
       "      <td>wrong</td>\n",
       "    </tr>\n",
       "  </tbody>\n",
       "</table>\n",
       "</div>"
      ],
      "text/plain": [
       "   Unnamed: 0                                             chosen  \\\n",
       "0           0  \\n\\nWhy Planning is Hard: A Multifaceted Model...   \n",
       "1           1    Synchronous and Asynchronous Data Transmissi...   \n",
       "2           2  \\n\\n\\n\\nMAT337. Introduction to Real Analysis\\...   \n",
       "3           3  \\n\\n\\n\\n\\n\\n\\nA research workflow with Zotero ...   \n",
       "4           4  \\n\\n\\n\\n90% of all claims about the problems w...   \n",
       "5           5  \\n\\nAI Safety Fundamentals Course\\n\\n\\n\\n\\n\\n\\...   \n",
       "6           6  \\n\\n\\n\\nMAT337. Introduction to Real Analysis\\...   \n",
       "7           7  \\n\\n\\n\\nStellar : Message of the Day\\n\\n\\n\\n\\n...   \n",
       "8           8  \\n\\nThe ground of optimization - LessWrong 2.0...   \n",
       "9           9  \\n\\n\\n\\n\\n\\n\\n\\n\\n\\nRent Seeking - Econlib\\n\\n...   \n",
       "\n",
       "                                            rejected  chosen_article_score  \\\n",
       "0  \\n\\n\\n\\n\\n\\n\\nA research workflow with Zotero ...              0.068711   \n",
       "1  \\n\\nGeneralized Efficient Markets in Political...             -0.034582   \n",
       "2  \\n\\n\\n\\nStellar : Message of the Day\\n\\n\\n\\n\\n...              0.251424   \n",
       "3  \\n\\n\\n\\n\\n\\n\\n\\n\\n\\nEdge.org\\n\\n\\n\\n\\n\\n\\n\\n\\n...             -0.083770   \n",
       "4  \\n\\n\\n\\n\\nOff the Convex Path – Off the convex...             -0.232459   \n",
       "5  \\n\\n\\n\\nThe Control Group Is Out Of Control | ...              0.018573   \n",
       "6  \\n\\n\\n\\n\\n\\n02-251: Great Ideas in Computation...              0.251424   \n",
       "7  \\n\\n\\n\\n\\n15-251 Fall 2018\\n\\n\\n\\n\\n\\n\\n15-251...              0.121554   \n",
       "8  \\n\\n\\n\\n\\n\\n\\nA research workflow with Zotero ...              0.116302   \n",
       "9  \\n\\n\\n\\n\\nOff the Convex Path – Off the convex...             -0.014000   \n",
       "\n",
       "   rejected_article_score model_results  \n",
       "0               -0.083770       correct  \n",
       "1                0.185842         wrong  \n",
       "2                0.121554       correct  \n",
       "3               -0.170541       correct  \n",
       "4                0.064567         wrong  \n",
       "5               -0.109004       correct  \n",
       "6                0.095170       correct  \n",
       "7               -0.112996       correct  \n",
       "8               -0.083770       correct  \n",
       "9                0.064567         wrong  "
      ]
     },
     "execution_count": 30,
     "metadata": {},
     "output_type": "execute_result"
    }
   ],
   "source": [
    "import pandas as pd\n",
    "\n",
    "# Testing with stored preferences\n",
    "pref_df = pd.read_csv('./pref_data.csv')\n",
    "\n",
    "for index, row in pref_df.iterrows():\n",
    "    # Extract chosen and text input\n",
    "    chosen_article_text_input = tokenizer(pref_df.loc[index, 'chosen'], return_tensors=\"pt\", truncation=True)\n",
    "    rejected_article_text_input = tokenizer(pref_df.loc[index, 'rejected'], return_tensors=\"pt\", truncation=True)\n",
    "\n",
    "    # Using model with chosen article and rejected article\n",
    "    chosen_article_output = model(**chosen_article_text_input)\n",
    "    rejected_article_output = model(**rejected_article_text_input)\n",
    "\n",
    "    chosen_article_score = chosen_article_output.logits.numpy()[0, 0]\n",
    "    rejected_article_score = rejected_article_output.logits.numpy()[0, 0]\n",
    "\n",
    "    pref_df.loc[index, 'chosen_article_score'] = chosen_article_score\n",
    "    pref_df.loc[index, 'rejected_article_score'] = rejected_article_score\n",
    "    if chosen_article_score > rejected_article_score: \n",
    "        pref_df.loc[index, 'model_results'] = \"correct\" \n",
    "    else: \n",
    "        pref_df.loc[index, 'model_results'] = \"wrong\"\n",
    "\n",
    "pref_df"
   ]
<<<<<<< HEAD
  },
  {
   "cell_type": "code",
   "execution_count": null,
   "id": "5b22b143",
   "metadata": {},
   "outputs": [],
   "source": [
    "# tensor([[0.7168, 0.3126]])"
   ]
=======
>>>>>>> b5177927bfb1c3bcd3c4382b44653f053589172c
  }
 ],
 "metadata": {
  "kernelspec": {
   "display_name": "Python 3 (ipykernel)",
   "language": "python",
   "name": "python3"
  },
  "language_info": {
   "codemirror_mode": {
    "name": "ipython",
    "version": 3
   },
   "file_extension": ".py",
   "mimetype": "text/x-python",
   "name": "python",
   "nbconvert_exporter": "python",
   "pygments_lexer": "ipython3",
   "version": "3.9.7"
  }
 },
 "nbformat": 4,
 "nbformat_minor": 5
}
